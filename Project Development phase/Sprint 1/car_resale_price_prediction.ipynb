{
  "nbformat": 4,
  "nbformat_minor": 0,
  "metadata": {
    "colab": {
      "provenance": []
    },
    "kernelspec": {
      "name": "python3",
      "display_name": "Python 3"
    },
    "language_info": {
      "name": "python"
    }
  },
  "cells": [
    {
      "cell_type": "code",
      "execution_count": null,
      "metadata": {
        "id": "W08Jf6ZtaIuQ"
      },
      "outputs": [],
      "source": [
        "import pandas as pd\n",
        "import numpy as np\n",
        "import matplotlib as plt\n",
        "from sklearn.preprocessing import LabelEncoder\n",
        "import pickle"
      ]
    },
    {
      "cell_type": "code",
      "source": [
        "#import the data set into a variable which we can use\n",
        "df = pd.read_csv(\"/content/autos.csv\", header=0, sep=',', encoding='Latin1',)"
      ],
      "metadata": {
        "id": "TcQNyBS_rRjB"
      },
      "execution_count": null,
      "outputs": []
    },
    {
      "cell_type": "code",
      "source": [
        "print(df.seller.value_counts())\n",
        "df[df.seller != 'gewerblich']\n",
        "df=df.drop('seller',1)\n",
        "print(df.offerType.value_counts())\n",
        "df[df.offerType != 'Gesuch']\n",
        "df=df.drop('offerType',1)"
      ],
      "metadata": {
        "colab": {
          "base_uri": "https://localhost:8080/"
        },
        "id": "V5HCRtaMvGEC",
        "outputId": "1273f5b8-8c21-48e7-c9bb-d054b5cfbd25"
      },
      "execution_count": null,
      "outputs": [
        {
          "output_type": "stream",
          "name": "stdout",
          "text": [
            "privat        113806\n",
            "gewerblich         1\n",
            "Name: seller, dtype: int64\n",
            "Angebot    113805\n",
            "Gesuch          2\n",
            "Name: offerType, dtype: int64\n"
          ]
        },
        {
          "output_type": "stream",
          "name": "stderr",
          "text": [
            "/usr/local/lib/python3.7/dist-packages/ipykernel_launcher.py:3: FutureWarning: In a future version of pandas all arguments of DataFrame.drop except for the argument 'labels' will be keyword-only\n",
            "  This is separate from the ipykernel package so we can avoid doing imports until\n",
            "/usr/local/lib/python3.7/dist-packages/ipykernel_launcher.py:6: FutureWarning: In a future version of pandas all arguments of DataFrame.drop except for the argument 'labels' will be keyword-only\n",
            "  \n"
          ]
        }
      ]
    },
    {
      "cell_type": "code",
      "source": [
        "print(df.shape)\n",
        "df = df[(df.powerPS > 50) & (df.powerPS < 900)]\n",
        "print(df.shape)\n",
        "df = df[(df.yearOfRegistration >= 1950) & (df.yearOfRegistration < 2017)] \n",
        "print(df.shape)"
      ],
      "metadata": {
        "colab": {
          "base_uri": "https://localhost:8080/"
        },
        "id": "VjVeh4Z-vdHU",
        "outputId": "05cd1ce2-d20d-4947-b9ed-f362981610aa"
      },
      "execution_count": null,
      "outputs": [
        {
          "output_type": "stream",
          "name": "stdout",
          "text": [
            "(113808, 18)\n",
            "(97756, 18)\n",
            "(94618, 18)\n"
          ]
        }
      ]
    },
    {
      "cell_type": "code",
      "source": [
        "df.drop(['name','abtest', 'dateCrawled', 'nrOfPictures', 'lastSeen', 'postalCode', 'dateCreated'], axis='columns', inplace=True)"
      ],
      "metadata": {
        "id": "8k1_MsCyv8LX"
      },
      "execution_count": null,
      "outputs": []
    },
    {
      "cell_type": "code",
      "source": [
        "new_df = df.copy()\n",
        "new_df = new_df.drop_duplicates(['price', 'vehicleType', 'yearOfRegistration'\n",
        ",'gearbox', 'powerPS', 'model', 'kilometer', 'monthOfRegistration', 'fuelType'\n",
        ",'notRepairedDamage'])"
      ],
      "metadata": {
        "id": "aLiZcxkOwWSJ"
      },
      "execution_count": null,
      "outputs": []
    },
    {
      "cell_type": "code",
      "source": [
        "new_df.gearbox.replace(('manuell', 'automatik'), ('manual', 'automatic'), inplace=True) \n",
        "new_df.fuelType.replace(('benzin','andere', 'elektro'),('petrol', 'others', 'electric'), inplace=True) \n",
        "new_df.vehicleType.replace(('kleinwagen', 'cabrio','kombi', 'andere'),\n",
        "                          ('small car', 'convertible', 'combination', 'others'), inplace=True)\n",
        "new_df.notRepairedDamage.replace(('ja','nein'), ('Yes', 'No'), inplace=True)"
      ],
      "metadata": {
        "id": "GSupAvGkxlvP"
      },
      "execution_count": null,
      "outputs": []
    },
    {
      "cell_type": "code",
      "source": [
        "new_df = new_df[(new_df.price >= 100) & (new_df.price <= 150000)]\n",
        "new_df['notRepairedDamage'].fillna(value='not-declared', inplace=True)\n",
        "new_df['fuelType'].fillna(value='not-declared', inplace=True)\n",
        "new_df['gearbox'].fillna(value='not-declared', inplace=True)\n",
        "new_df[ 'vehicleType'].fillna(value='not-declared', inplace=True)\n",
        "new_df['model'].fillna(value='not-declared', inplace=True)"
      ],
      "metadata": {
        "colab": {
          "base_uri": "https://localhost:8080/"
        },
        "id": "seiczb79x-5F",
        "outputId": "7cba4835-f719-48ff-9c97-0357f7b2daec"
      },
      "execution_count": null,
      "outputs": [
        {
          "output_type": "stream",
          "name": "stderr",
          "text": [
            "/usr/local/lib/python3.7/dist-packages/pandas/core/generic.py:6392: SettingWithCopyWarning: \n",
            "A value is trying to be set on a copy of a slice from a DataFrame\n",
            "\n",
            "See the caveats in the documentation: https://pandas.pydata.org/pandas-docs/stable/user_guide/indexing.html#returning-a-view-versus-a-copy\n",
            "  return self._update_inplace(result)\n"
          ]
        }
      ]
    },
    {
      "cell_type": "code",
      "source": [
        "new_df.to_csv(\"autos_preprocessed.csv\")"
      ],
      "metadata": {
        "id": "USHhk_CiyUaO"
      },
      "execution_count": null,
      "outputs": []
    },
    {
      "cell_type": "code",
      "source": [
        "labels = ['gearbox', 'notRepairedDamage', 'model', 'brand', 'fuelType', 'vehicleType']\n",
        "mapper = {}\n",
        "for i in labels:\n",
        "    mapper[i] = LabelEncoder()\n",
        "    mapper[i].fit(new_df[i])\n",
        "    tr = mapper[i].transform(new_df[i]) \n",
        "    np.save(str('classes'+i+'.npy'), mapper[i].classes_)\n",
        "    print(i, \":\",mapper[i])\n",
        "    new_df.loc[:, i + '_labels'] = pd.Series(tr, index=new_df.index)\n",
        "labeled = new_df[ ['price'\n",
        "                        ,'yearOfRegistration'\n",
        "                        ,'powerPS' ,'kilometer'\n",
        "                        ,'monthOfRegistration'\n",
        "                        ] \n",
        "                    + [x+\"_labels\" for x in labels]]\n",
        "print(labeled.columns)"
      ],
      "metadata": {
        "colab": {
          "base_uri": "https://localhost:8080/"
        },
        "id": "buZMIYFPylDI",
        "outputId": "27254a49-43f1-4232-e4c8-81cb38f5ee48"
      },
      "execution_count": null,
      "outputs": [
        {
          "output_type": "stream",
          "name": "stdout",
          "text": [
            "gearbox : LabelEncoder()\n",
            "notRepairedDamage : LabelEncoder()\n",
            "model : LabelEncoder()\n",
            "brand : LabelEncoder()\n",
            "fuelType : LabelEncoder()\n",
            "vehicleType : LabelEncoder()\n",
            "Index(['price', 'yearOfRegistration', 'powerPS', 'kilometer',\n",
            "       'monthOfRegistration', 'gearbox_labels', 'notRepairedDamage_labels',\n",
            "       'model_labels', 'brand_labels', 'fuelType_labels',\n",
            "       'vehicleType_labels'],\n",
            "      dtype='object')\n"
          ]
        }
      ]
    },
    {
      "cell_type": "code",
      "source": [
        "Y = labeled.iloc[:,0].values\n",
        "X = labeled.iloc[:,1:].values\n",
        "Y = Y.reshape(-1,1)"
      ],
      "metadata": {
        "id": "QUzvNgLu1AHm"
      },
      "execution_count": null,
      "outputs": []
    },
    {
      "cell_type": "code",
      "source": [
        "from sklearn.model_selection import cross_val_score, train_test_split \n"
      ],
      "metadata": {
        "id": "6JWaMRBn1X6Z"
      },
      "execution_count": null,
      "outputs": []
    },
    {
      "cell_type": "code",
      "source": [
        "X_train, X_test, Y_train, Y_test = train_test_split(X, Y, test_size=0.3, random_state = 3)"
      ],
      "metadata": {
        "id": "hsKiaB8C8ysT"
      },
      "execution_count": null,
      "outputs": []
    },
    {
      "cell_type": "code",
      "source": [
        "from sklearn.ensemble import RandomForestRegressor\n",
        "from sklearn.metrics import r2_score\n",
        "regressor = RandomForestRegressor(n_estimators=1000, max_depth=10, random_state=34)\n",
        "\n",
        "regressor.fit(X_train, np.ravel (Y_train,order='C'))"
      ],
      "metadata": {
        "colab": {
          "base_uri": "https://localhost:8080/"
        },
        "id": "7GwRcw8W5JKV",
        "outputId": "0b969534-1963-4b38-af9c-09510f2bc486"
      },
      "execution_count": null,
      "outputs": [
        {
          "output_type": "execute_result",
          "data": {
            "text/plain": [
              "RandomForestRegressor(max_depth=10, n_estimators=1000, random_state=34)"
            ]
          },
          "metadata": {},
          "execution_count": 88
        }
      ]
    },
    {
      "cell_type": "code",
      "source": [
        "y_pred = regressor.predict(X_test)\n",
        "print(r2_score (Y_test,y_pred))"
      ],
      "metadata": {
        "colab": {
          "base_uri": "https://localhost:8080/"
        },
        "id": "cvuOWQkg5wIk",
        "outputId": "ddec47eb-e9a9-45f5-be49-33cd49f2bf74"
      },
      "execution_count": null,
      "outputs": [
        {
          "output_type": "stream",
          "name": "stdout",
          "text": [
            "0.8047184536641195\n"
          ]
        }
      ]
    },
    {
      "cell_type": "code",
      "source": [
        "ssfilename = 'resale_model.sav'\n",
        "pickle.dump(regressor, open(filename, 'wb'))"
      ],
      "metadata": {
        "id": "-DcQwhTe6NWO"
      },
      "execution_count": null,
      "outputs": []
    }
  ]
}